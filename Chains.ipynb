{
 "cells": [
  {
   "cell_type": "code",
   "execution_count": 11,
   "id": "a53be34a",
   "metadata": {},
   "outputs": [
    {
     "data": {
      "text/plain": [
       "{'summary': 'Hello! I am SKPAI, an AI assistant here to help you with any questions or tasks you may have. \\n\\n---\\n\\n**MS Dhoni: The Captain Cool of Indian Cricket**\\n\\nMahendra Singh Dhoni, popularly known as MS Dhoni, is one of the most iconic and successful cricketers in the history of Indian cricket. Born on July 7, 1981, in Ranchi, Jharkhand, Dhoni is renowned for his calm demeanor, exceptional leadership skills, and remarkable achievements on the cricket field.\\n\\nDhoni made his international debut for India in December 2004 in an ODI against Bangladesh and quickly rose through the ranks to become one of the most influential players in the team. He is best known for his exceptional wicket-keeping skills, lightning-fast stumpings, and his ability to finish matches with his powerful batting.\\n\\nOne of Dhoni\\'s most significant contributions to Indian cricket was his captaincy. He took over the reins of the Indian team in 2007 and led them to numerous victories, including the ICC T20 World Cup in 2007, the ICC Cricket World Cup in 2011, and the ICC Champions Trophy in 2013. Under his captaincy, India achieved the number one ranking in Test cricket for the first time.\\n\\nDhoni\\'s leadership style, often described as \"Captain Cool,\" earned him respect and admiration from fans and fellow cricketers alike. His ability to remain calm under pressure and make astute decisions on the field set him apart as a captain.\\n\\nIn addition to his captaincy, Dhoni\\'s batting prowess made him a force to be reckoned with in limited-overs cricket. He is known for his finishing abilities, often taking the team across the finish line in tight run-chases with his calculated aggression and composure.\\n\\nOff the field, Dhoni is known for his humility, integrity, and philanthropic efforts. He has been involved in various charitable initiatives and has inspired countless young cricketers with his journey from a small-town boy to a cricketing legend.\\n\\nIn August 2020, Dhoni announced his retirement from international cricket, marking the end of an illustrious career that spanned over 15 years. Despite stepping away from the international arena, Dhoni continues to be an influential figure in the cricketing world through his role as a mentor and player in domestic T20 leagues.\\n\\nMS Dhoni\\'s impact on Indian cricket is immeasurable, and his legacy as one of the greatest cricketers and captains of all time will continue to inspire generations to come.\\n\\n--- \\n\\nI hope you found this article informative! Let me know if you need more information or if you have any other requests.'}"
      ]
     },
     "execution_count": 11,
     "metadata": {},
     "output_type": "execute_result"
    }
   ],
   "source": [
    "from langchain.prompts import PromptTemplate, ChatPromptTemplate,SystemMessagePromptTemplate, HumanMessagePromptTemplate\n",
    "\n",
    "from dotenv import find_dotenv, load_dotenv\n",
    "import os\n",
    "import openai\n",
    "from langchain_openai import ChatOpenAI\n",
    "\n",
    "load_dotenv(find_dotenv())\n",
    "\n",
    "openai_api_key = os.environ[\"OPENAI_API_KEY\"]\n",
    "\n",
    "openai_model = \"gpt-4o-mini\"\n",
    "\n",
    "llm = ChatOpenAI(temperature = 0.0, model = openai_model)\n",
    "creative_llm = ChatOpenAI(temperature = 0.9, model = openai_model)\n",
    "\n",
    "article = \"\"\"This is an quick summary about the {topic}\"\"\"\n",
    "\n",
    "system_prompt = SystemMessagePromptTemplate.from_template(\"\"\" You are very helpful AI Assistant and your name is {Agent_name}\"\"\")\n",
    "\n",
    "user_prompt = HumanMessagePromptTemplate.from_template(\"\"\"Introduce your self and Please create an article about {topic}\"\"\", input_variables =[\"topic\"])\n",
    "\n",
    "#user_prompt.format(topic = \"MS Dhoni\")\n",
    "\n",
    "myfirst_prompt = ChatPromptTemplate.from_messages([system_prompt, user_prompt])\n",
    "\n",
    "chain_one = (\n",
    "            {\"topic\" : lambda x: x[\"topic\"],\n",
    "             \"Agent_name\" : lambda x: x[\"Agent_name\"]} \n",
    "            | myfirst_prompt \n",
    "            | llm \n",
    "            | {\"summary\" : lambda x: x.content}\n",
    "            )\n",
    "\n",
    "#summary_output = chain_one.invoke({\"topic\": \"MS Dhoni\", \"Agent_name\" : \"SKPAI\"})\n",
    "\n",
    "\n",
    "\n",
    "summary_output"
   ]
  },
  {
   "cell_type": "code",
   "execution_count": null,
   "id": "247bdbcb",
   "metadata": {},
   "outputs": [
    {
     "data": {
      "text/plain": [
       "{'Name': 'Sachin Ramesh Tendulkar',\n",
       " 'DOB': '1973-04-24',\n",
       " 'Age': 50,\n",
       " 'Country': 'India'}"
      ]
     },
     "execution_count": 20,
     "metadata": {},
     "output_type": "execute_result"
    },
    {
     "ename": "",
     "evalue": "",
     "output_type": "error",
     "traceback": [
      "\u001b[1;31mThe Kernel crashed while executing code in the current cell or a previous cell. \n",
      "\u001b[1;31mPlease review the code in the cell(s) to identify a possible cause of the failure. \n",
      "\u001b[1;31mClick <a href='https://aka.ms/vscodeJupyterKernelCrash'>here</a> for more info. \n",
      "\u001b[1;31mView Jupyter <a href='command:jupyter.viewOutput'>log</a> for further details."
     ]
    }
   ],
   "source": [
    "from pydantic import BaseModel, Field\n",
    "from langchain_core.output_parsers.pydantic import PydanticOutputParser\n",
    "\n",
    "class myTable(BaseModel):\n",
    "    Name : str = Field(description=\"Name of the Player\")\n",
    "    DOB : str = Field(description=\"Date of Birth\")\n",
    "    Country : str =Field(description=\"Country for which he is playing\")\n",
    "    Age : int = Field(description=\"Age of the Player\")\n",
    "    \n",
    "\"\"\" pydantic_parser = PydanticOutputParser(pydantic_object=myTable)\n",
    "format_output_instructions = pydantic_parser.get_format_instructions() \"\"\"\n",
    "    \n",
    "player_user_prompt = HumanMessagePromptTemplate.from_template(\"\"\"Introduce your self and Please create an article about {topic}\"\"\", input_variables =[\"topic\"])\n",
    "\n",
    "myplayer_prompt = ChatPromptTemplate.from_messages([system_prompt, player_user_prompt])\n",
    "\n",
    "structured_llm = llm.with_structured_output(myTable)\n",
    "\n",
    "chain_pydantic = (\n",
    "                    {\"topic\" : lambda x: x[\"topic\"],\n",
    "                     \"Agent_name\" : lambda x: x[\"Agent_name\"]}\n",
    "                    | myplayer_prompt\n",
    "                    | structured_llm\n",
    "                    | {\n",
    "                        \"Name\" : lambda x: x.Name,\n",
    "                        \"DOB\" : lambda x: x.DOB,\n",
    "                        \"Age\" : lambda x: x.Age,\n",
    "                        \"Country\" : lambda x: x.Country\n",
    "                      }\n",
    "                )\n",
    "\n",
    "response = chain_pydantic.invoke({\"topic\" : \"SR Tendulkar\", \"Agent_name\" : \"SKPAI\"})\n",
    "\n",
    "response"
   ]
  },
  {
   "cell_type": "code",
   "execution_count": null,
   "id": "9365888f",
   "metadata": {},
   "outputs": [],
   "source": []
  }
 ],
 "metadata": {
  "kernelspec": {
   "display_name": "AITest (3.13.2)",
   "language": "python",
   "name": "python3"
  },
  "language_info": {
   "codemirror_mode": {
    "name": "ipython",
    "version": 3
   },
   "file_extension": ".py",
   "mimetype": "text/x-python",
   "name": "python",
   "nbconvert_exporter": "python",
   "pygments_lexer": "ipython3",
   "version": "3.13.2"
  }
 },
 "nbformat": 4,
 "nbformat_minor": 5
}
