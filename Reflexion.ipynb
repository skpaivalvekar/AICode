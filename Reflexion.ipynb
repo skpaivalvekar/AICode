{
 "cells": [
  {
   "cell_type": "code",
   "execution_count": 2,
   "id": "4046e279",
   "metadata": {},
   "outputs": [
    {
     "name": "stderr",
     "output_type": "stream",
     "text": [
      "c:\\Kichu AI\\Code\\AITest\\Lib\\site-packages\\pydantic\\json_schema.py:2324: PydanticJsonSchemaWarning: Default value (FieldInfo(annotation=NoneType, required=True, description=' 250 Word detailed answer to the question'),) is not JSON serializable; excluding default from JSON schema [non-serializable-default]\n",
      "  warnings.warn(message, PydanticJsonSchemaWarning)\n",
      "c:\\Kichu AI\\Code\\AITest\\Lib\\site-packages\\pydantic\\json_schema.py:2324: PydanticJsonSchemaWarning: Default value (FieldInfo(annotation=NoneType, required=True, description='Critique of what is missing'),) is not JSON serializable; excluding default from JSON schema [non-serializable-default]\n",
      "  warnings.warn(message, PydanticJsonSchemaWarning)\n"
     ]
    }
   ],
   "source": [
    "import os\n",
    "import datetime\n",
    "from dotenv import find_dotenv, load_dotenv\n",
    "from langchain.prompts import ChatPromptTemplate, MessagesPlaceholder\n",
    "from langchain_google_genai import ChatGoogleGenerativeAI\n",
    "from langchain_openai import ChatOpenAI\n",
    "from schema import AnswerTheQuestion, Reflection\n",
    "from langchain_core.output_parsers.openai_tools import PydanticToolsParser\n",
    "from langchain_core.messages import HumanMessage\n",
    "from langsmith import traceable\n",
    "\n",
    "\n",
    "load_dotenv(find_dotenv())\n",
    "#openai_api_key = os.environ[\"GOOGLE_API_KEY\"]\n",
    "\n",
    "\n",
    "\n",
    "#print(\"API Key Loaded:\", os.environ.get(\"GOOGLE_API_KEY\"))\n",
    "\n",
    "#google_llm = ChatGoogleGenerativeAI(model=\"gemini-1.5-pro\")\n",
    "openai_llm = ChatOpenAI(model=\"gpt-4o-mini\")\n",
    "\n",
    "pydantic_parser = PydanticToolsParser(tools=[AnswerTheQuestion])\n",
    "\n",
    "actor_prompt_template = ChatPromptTemplate.from_messages(\n",
    "                                                            [   (\"system\", \"\"\"You are an expert AI Researcher.\n",
    "                                                                        CurrentTime : {now}\n",
    "                                                                        1.{firstInstruction}\n",
    "                                                                        2. Reflect and critique your answer. Be Severe to maximize improvement.\n",
    "                                                                        3. After the reflection, **list 1-3 search queries seperately** for \n",
    "                                                                           researching improvements. Do not include them inside reflection.\n",
    "                                                                        \"\"\"\n",
    "                                                                 ),\n",
    "                                                                MessagesPlaceholder(variable_name = \"humanmessages\"),\n",
    "                                                                (\"system\", \"Answer the user query using the required format\")\n",
    "                                                            ]\n",
    "                                                            ).partial(now = lambda: datetime.datetime.now().isoformat()\n",
    "                                                        )\n",
    "                                                        \n",
    "first_actor_prompt_template = actor_prompt_template.partial(firstInstruction =\"Provide me a 250 word answer\")\n",
    "\n",
    "\n",
    "\n",
    "first_actor_chain = (first_actor_prompt_template | openai_llm.bind_tools(tools = [AnswerTheQuestion], tool_choice='AnswerTheQuestion') | pydantic_parser)\n",
    "\n",
    "\n",
    "\n",
    "response = first_actor_chain.invoke(\n",
    "                                        {\n",
    "                                        \"humanmessages\" : [HumanMessage(content=\"Write a blog about how AI impacts education industry\")]\n",
    "                                        }\n",
    "\n",
    "                                    )\n",
    "\n",
    "\n"
   ]
  },
  {
   "cell_type": "code",
   "execution_count": 3,
   "id": "77ae2191",
   "metadata": {},
   "outputs": [
    {
     "name": "stdout",
     "output_type": "stream",
     "text": [
      "Artificial Intelligence (AI) is transforming the education industry in profound ways, reshaping how information is delivered and absorbed. With tools like personalized learning algorithms, educational institutions can tailor experiences to meet individual student needs. AI can analyze students' learning patterns and identify strengths and weaknesses, enabling customized interventions that enhance academic performance.  \n",
      "\n",
      "Moreover, AI-driven platforms provide immediate feedback and resources, making learning more interactive and responsive. Intelligent tutoring systems are now able to offer assistance in difficult subjects, guiding students through complex concepts at their own pace. This fosters a more engaging learning environment, where learners can explore topics deeply without the fear of falling behind.  \n",
      "\n",
      "Furthermore, administrative tasks such as grading and attendance tracking are increasingly automated, reducing the workload on educators and allowing more time for direct interaction with students. Additionally, AI can facilitate administrative functions by optimizing scheduling, managing resources, and even predicting enrollment trends, ultimately making educational institutions more efficient.  \n",
      "\n",
      "Yet, the integration of AI in education is not without challenges. Issues such as data privacy, the digital divide, and the need for teacher training in these new technologies are critical considerations that must be addressed to ensure equitable access to AI benefits. As we move forward, it’s essential to strike a balance between leveraging AI's capabilities and maintaining the human touch that is vital in education.\n",
      "['AI in education effectiveness', 'challenges of AI in classrooms', 'future trends AI in education']\n"
     ]
    }
   ],
   "source": [
    "print(response[0].answer)\n",
    "print(response[0].search_queries)"
   ]
  },
  {
   "cell_type": "code",
   "execution_count": 3,
   "id": "ef24a270",
   "metadata": {},
   "outputs": [
    {
     "name": "stdout",
     "output_type": "stream",
     "text": [
      "Lang API Key Loaded: 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\n",
      "Lang API Project Loaded: Gemin-Sai-test\n"
     ]
    }
   ],
   "source": [
    "lang_api_key = os.environ[\"LANGSMITH_API_KEY\"]\n",
    "\n",
    "print(\"Lang API Key Loaded:\", os.environ.get(\"LANGSMITH_API_KEY\"))\n",
    "\n",
    "lng_key_project = os.environ[\"LANGSMITH_PROJECT\"]\n",
    "print(\"Lang API Project Loaded:\", os.environ.get(\"LANGSMITH_PROJECT\"))"
   ]
  }
 ],
 "metadata": {
  "kernelspec": {
   "display_name": "AITest (3.13.2)",
   "language": "python",
   "name": "python3"
  },
  "language_info": {
   "codemirror_mode": {
    "name": "ipython",
    "version": 3
   },
   "file_extension": ".py",
   "mimetype": "text/x-python",
   "name": "python",
   "nbconvert_exporter": "python",
   "pygments_lexer": "ipython3",
   "version": "3.13.2"
  }
 },
 "nbformat": 4,
 "nbformat_minor": 5
}
