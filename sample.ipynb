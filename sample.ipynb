{
 "cells": [
  {
   "cell_type": "code",
   "execution_count": null,
   "id": "89c5991c",
   "metadata": {},
   "outputs": [],
   "source": [
    "from langchain.prompts import PromptTemplate, ChatPromptTemplate\n",
    "from dotenv import find_dotenv, load_dotenv\n",
    "import os\n",
    "import openai\n",
    "from langchain_openai import ChatOpenAI\n",
    "\n",
    "load_dotenv(find_dotenv())\n",
    "\n",
    "openai_api_key = os.environ[\"OPENAI_API_KEY\"]\n",
    "#prompttemplate_prompt = PromptTemplate.from_template(\"What is a {question_topic}. Answer as an {role}\")\n",
    "#chaintemplate_prompt = ChatPromptTemplate.from_template(\"What is a {question_topic}. Answer as an {role}\")\n",
    "\n",
    "messages = [\n",
    "    (\"system\", \"You are a {role}\" ),\n",
    "    (\"human\", \"What is a {question_topic}\")\n",
    "]\n",
    "\n",
    "#prompt = prompttemplate_prompt\n",
    "#prompt = chaintemplate_prompt\n",
    "\n",
    "\"\"\" prompt_response = prompt.invoke({'question_topic' : 'molecule',\n",
    "                         'role' : 'Expert'})\n",
    "print(prompt_response) \"\"\"\n",
    "\n",
    "prompt_message = ChatPromptTemplate.from_messages(messages=messages)\n"
   ]
  },
  {
   "cell_type": "code",
   "execution_count": null,
   "id": "2c90ab75",
   "metadata": {},
   "outputs": [
    {
     "ename": "",
     "evalue": "",
     "output_type": "error",
     "traceback": [
      "\u001b[1;31mThe Kernel crashed while executing code in the current cell or a previous cell. \n",
      "\u001b[1;31mPlease review the code in the cell(s) to identify a possible cause of the failure. \n",
      "\u001b[1;31mClick <a href='https://aka.ms/vscodeJupyterKernelCrash'>here</a> for more info. \n",
      "\u001b[1;31mView Jupyter <a href='command:jupyter.viewOutput'>log</a> for further details."
     ]
    }
   ],
   "source": [
    "from langchain.prompts import PromptTemplate, ChatPromptTemplate\n",
    "from dotenv import find_dotenv, load_dotenv\n",
    "import os\n",
    "import openai\n",
    "from langchain_openai import ChatOpenAI\n",
    "\n",
    "load_dotenv(find_dotenv())\n",
    "\n",
    "openai_api_key = os.environ[\"OPENAI_API_KEY\"]\n",
    "\n",
    "\n",
    "\n",
    "\n",
    "\n",
    "\n",
    "\n",
    "\n",
    "\n",
    "\n",
    "\n",
    "\n",
    "\n",
    "\n"
   ]
  },
  {
   "cell_type": "code",
   "execution_count": 38,
   "id": "2a87e4ee",
   "metadata": {},
   "outputs": [
    {
     "data": {
      "text/plain": [
       "[WikipediaQueryRun(api_wrapper=WikipediaAPIWrapper(wiki_client=<module 'wikipedia' from 'c:\\\\Kichu AI\\\\Code\\\\AITest\\\\Lib\\\\site-packages\\\\wikipedia\\\\__init__.py'>, top_k_results=3, lang='en', load_all_available_meta=False, doc_content_chars_max=4000))]"
      ]
     },
     "execution_count": 38,
     "metadata": {},
     "output_type": "execute_result"
    }
   ],
   "source": [
    "from langchain.schema.output_parser import StrOutputParser\n",
    "from langchain.agents import load_tools\n",
    "llm_model = \"gpt-3.5-turbo\"\n",
    "chatmodel = ChatOpenAI(\n",
    "    model_name=llm_model,\n",
    "    openai_api_key=openai_api_key\n",
    ")\n",
    "\n",
    "tools = load_tools(tool_names=[\"wikipedia\"], llm=llm_model)\n",
    "tools\n",
    "\n",
    "#chain = prompt_message | chatmodel | StrOutputParser()"
   ]
  },
  {
   "cell_type": "code",
   "execution_count": null,
   "id": "8676bd18",
   "metadata": {},
   "outputs": [],
   "source": [
    "chain.invoke({'question_topic' : 'molecule',\n",
    "                         'role' : 'Expert'})"
   ]
  }
 ],
 "metadata": {
  "kernelspec": {
   "display_name": "AITest (3.13.2)",
   "language": "python",
   "name": "python3"
  },
  "language_info": {
   "codemirror_mode": {
    "name": "ipython",
    "version": 3
   },
   "file_extension": ".py",
   "mimetype": "text/x-python",
   "name": "python",
   "nbconvert_exporter": "python",
   "pygments_lexer": "ipython3",
   "version": "3.13.2"
  }
 },
 "nbformat": 4,
 "nbformat_minor": 5
}
